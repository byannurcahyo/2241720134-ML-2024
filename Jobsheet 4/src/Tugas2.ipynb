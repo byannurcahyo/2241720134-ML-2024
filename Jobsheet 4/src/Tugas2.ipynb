{
 "cells": [
  {
   "cell_type": "code",
   "execution_count": 2,
   "metadata": {},
   "outputs": [
    {
     "name": "stdout",
     "output_type": "stream",
     "text": [
      "Accuracy: 97.50%\n",
      "Classification Report:\n",
      "              precision    recall  f1-score   support\n",
      "\n",
      "         day       0.96      0.99      0.98        80\n",
      "       night       0.99      0.96      0.97        80\n",
      "\n",
      "    accuracy                           0.97       160\n",
      "   macro avg       0.98      0.98      0.97       160\n",
      "weighted avg       0.98      0.97      0.97       160\n",
      "\n"
     ]
    }
   ],
   "source": [
    "import cv2\n",
    "import numpy as np\n",
    "import os\n",
    "from sklearn.svm import SVC\n",
    "from sklearn.metrics import accuracy_score, classification_report\n",
    "from sklearn.preprocessing import StandardScaler\n",
    "\n",
    "# Fungsi untuk ekstraksi histogram dari gambar\n",
    "def extract_histogram(image, bins=(8, 8, 8)):\n",
    "    hsv_image = cv2.cvtColor(image, cv2.COLOR_BGR2HSV)\n",
    "    hist = cv2.calcHist([hsv_image], [0, 1, 2], None, bins, [0, 180, 0, 256, 0, 256])\n",
    "    cv2.normalize(hist, hist)\n",
    "    return hist.flatten()\n",
    "\n",
    "# Fungsi untuk memuat gambar dan label dari folder\n",
    "def load_images_from_folder(folder):\n",
    "    data = []\n",
    "    labels = []\n",
    "    for class_label in os.listdir(folder):\n",
    "        class_path = os.path.join(folder, class_label)\n",
    "        if os.path.isdir(class_path):\n",
    "            for image_name in os.listdir(class_path):\n",
    "                image_path = os.path.join(class_path, image_name)\n",
    "                image = cv2.imread(image_path)\n",
    "                if image is not None:\n",
    "                    hist = extract_histogram(image)\n",
    "                    data.append(hist)\n",
    "                    labels.append(class_label)\n",
    "    return np.array(data), np.array(labels)\n",
    "\n",
    "# Folder gambar untuk training dan testing\n",
    "train_dir = \"../images/training/\"\n",
    "test_dir = \"../images/test/\"\n",
    "\n",
    "# Muat data training dan testing\n",
    "X_train, y_train = load_images_from_folder(train_dir)\n",
    "X_test, y_test = load_images_from_folder(test_dir)\n",
    "\n",
    "# Normalisasi data dengan StandardScaler\n",
    "scaler = StandardScaler()\n",
    "X_train = scaler.fit_transform(X_train)\n",
    "X_test = scaler.transform(X_test)\n",
    "\n",
    "# Inisialisasi model SVM\n",
    "svm_model = SVC(kernel='linear')\n",
    "\n",
    "# Latih model SVM\n",
    "svm_model.fit(X_train, y_train)\n",
    "\n",
    "# Prediksi pada data uji\n",
    "y_pred = svm_model.predict(X_test)\n",
    "\n",
    "# Evaluasi performa\n",
    "accuracy = accuracy_score(y_test, y_pred)\n",
    "report = classification_report(y_test, y_pred)\n",
    "\n",
    "print(f\"Accuracy: {accuracy * 100:.2f}%\")\n",
    "print(\"Classification Report:\")\n",
    "print(report)\n"
   ]
  }
 ],
 "metadata": {
  "kernelspec": {
   "display_name": "venv",
   "language": "python",
   "name": "python3"
  },
  "language_info": {
   "codemirror_mode": {
    "name": "ipython",
    "version": 3
   },
   "file_extension": ".py",
   "mimetype": "text/x-python",
   "name": "python",
   "nbconvert_exporter": "python",
   "pygments_lexer": "ipython3",
   "version": "3.10.6"
  }
 },
 "nbformat": 4,
 "nbformat_minor": 2
}
